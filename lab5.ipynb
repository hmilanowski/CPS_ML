{
 "cells": [
  {
   "cell_type": "code",
   "execution_count": 1,
   "metadata": {},
   "outputs": [],
   "source": [
    "from sklearn import datasets\n",
    "from sklearn.model_selection import train_test_split\n",
    "from scipy.spatial import distance\n",
    "from sklearn.metrics import accuracy_score\n",
    "import pandas as pd"
   ]
  },
  {
   "cell_type": "code",
   "execution_count": 2,
   "metadata": {},
   "outputs": [],
   "source": [
    "# 1. Baza danych Iris - proszę podzielić na zbiór uczący i testowy\n",
    "iris = datasets.load_iris()\n",
    "#Podziel zbiór na uczący i testowy, test_size - procentowy udział (przykład 50 % uczący i testowy)\n",
    "features_train, features_test, labels_train, labels_test = train_test_split(iris.data, iris.target, test_size=0.5)"
   ]
  },
  {
   "cell_type": "code",
   "execution_count": 3,
   "metadata": {},
   "outputs": [
    {
     "data": {
      "text/plain": [
       "5.196152422706632"
      ]
     },
     "execution_count": 3,
     "metadata": {},
     "output_type": "execute_result"
    }
   ],
   "source": [
    "a = (1, 2, 3)\n",
    "b = (4, 5, 6)\n",
    "dist = distance.euclidean(a, b)\n",
    "dist"
   ]
  },
  {
   "cell_type": "code",
   "execution_count": 4,
   "metadata": {},
   "outputs": [],
   "source": [
    "# 2. Wybieramy wartość k\n",
    "k=5"
   ]
  },
  {
   "cell_type": "code",
   "execution_count": 5,
   "metadata": {},
   "outputs": [
    {
     "data": {
      "text/plain": [
       "1.0"
      ]
     },
     "execution_count": 5,
     "metadata": {},
     "output_type": "execute_result"
    }
   ],
   "source": [
    "# 3. Poszukujemy k obserwacji, które są najbliższe do naszego analizowanego przykładu.\n",
    "# Do wyznaczania odległości skorzystaj z algorytmu Eukleidesa.\n",
    "\n",
    "def kNN(NewPoint, CurrentPoints, PointsLabels, k):\n",
    "    dist = pd.DataFrame(columns=['Distance', 'Label'])\n",
    "    for Point, label in zip(CurrentPoints, PointsLabels):\n",
    "        dist = dist.append({'Distance':distance.euclidean(NewPoint, Point), 'Label':label}, ignore_index=True)\n",
    "    dist.sort_values(by=['Distance'], inplace=True)\n",
    "    # 4. Użyj najczęściej pojawiającej się wartości z “k najbliższych sąsiadów” jako wartość dla nieznanego Iris.\n",
    "    cnt = dist.iloc[:k]['Label'].value_counts()\n",
    "    if len(cnt) > 1:\n",
    "        ki = 1\n",
    "        while cnt.index[0] == cnt.index[1]:\n",
    "            cnt = dist.iloc[:k+ki]['Label'].value_counts()\n",
    "            ki += 1\n",
    "    return cnt.index[0]\n",
    "\n",
    "test = kNN(features_test[0], features_train, labels_train, k)\n",
    "test"
   ]
  },
  {
   "cell_type": "code",
   "execution_count": 6,
   "metadata": {},
   "outputs": [],
   "source": [
    "predictions = list()\n",
    "for data in features_test:\n",
    "    predictions.append(kNN(data, features_train, labels_train, k))"
   ]
  },
  {
   "cell_type": "code",
   "execution_count": 7,
   "metadata": {},
   "outputs": [
    {
     "name": "stdout",
     "output_type": "stream",
     "text": [
      "0.9466666666666667\n"
     ]
    }
   ],
   "source": [
    "# Sprawdzanie skuteczności klasyfikatora\n",
    "output = accuracy_score(labels_test, predictions)\n",
    "print(output)"
   ]
  },
  {
   "cell_type": "markdown",
   "metadata": {},
   "source": [
    "## kNN - Python (sklearn)"
   ]
  },
  {
   "cell_type": "code",
   "execution_count": 8,
   "metadata": {},
   "outputs": [],
   "source": [
    "from sklearn import datasets\n",
    "from sklearn.metrics import accuracy_score\n",
    "from sklearn.model_selection import train_test_split\n",
    "from sklearn.neighbors import KNeighborsClassifier"
   ]
  },
  {
   "cell_type": "code",
   "execution_count": 9,
   "metadata": {},
   "outputs": [],
   "source": [
    "# 1. Podziel zbiór na uczący (70 %) i treningowy (30 %).\n",
    "iris = datasets.load_iris()\n",
    "features_train, features_test, labels_train, labels_test = train_test_split(iris.data, iris.target, test_size=0.3)"
   ]
  },
  {
   "cell_type": "code",
   "execution_count": 10,
   "metadata": {},
   "outputs": [
    {
     "name": "stdout",
     "output_type": "stream",
     "text": [
      "0.9555555555555556\n"
     ]
    }
   ],
   "source": [
    "# 2. Stworzenie klasyfikatora i jego wyuczenie.\n",
    "neigh = KNeighborsClassifier(n_neighbors=k)\n",
    "neigh.fit(features_train, labels_train)\n",
    "# 3. Predykcja wartości.\n",
    "predictions = neigh.predict(features_test)\n",
    "# 4. Wyznaczenie miary skuteczności dla zbioru testowego (ang. accuracy).\n",
    "output = accuracy_score(labels_test, predictions)\n",
    "print(output)"
   ]
  },
  {
   "cell_type": "markdown",
   "metadata": {},
   "source": [
    "## Decision trees"
   ]
  },
  {
   "cell_type": "code",
   "execution_count": 11,
   "metadata": {},
   "outputs": [
    {
     "data": {
      "text/plain": [
       "DecisionTreeClassifier()"
      ]
     },
     "execution_count": 11,
     "metadata": {},
     "output_type": "execute_result"
    }
   ],
   "source": [
    "from sklearn.datasets import load_iris\n",
    "from sklearn import tree\n",
    "iris = load_iris()\n",
    "clf = tree.DecisionTreeClassifier()\n",
    "clf.fit(iris.data, iris.target)"
   ]
  },
  {
   "cell_type": "code",
   "execution_count": 12,
   "metadata": {},
   "outputs": [
    {
     "data": {
      "text/plain": [
       "array([0])"
      ]
     },
     "execution_count": 12,
     "metadata": {},
     "output_type": "execute_result"
    }
   ],
   "source": [
    "clf.predict(iris.data[:1, :])"
   ]
  },
  {
   "cell_type": "code",
   "execution_count": 13,
   "metadata": {},
   "outputs": [
    {
     "data": {
      "text/plain": [
       "array([[1., 0., 0.]])"
      ]
     },
     "execution_count": 13,
     "metadata": {},
     "output_type": "execute_result"
    }
   ],
   "source": [
    "clf.predict_proba(iris.data[:1, :])"
   ]
  },
  {
   "cell_type": "code",
   "execution_count": 14,
   "metadata": {},
   "outputs": [],
   "source": [
    "from six import StringIO\n",
    "import pydot\n",
    "dot_data = StringIO()\n",
    "tree.export_graphviz(clf, out_file=dot_data)\n",
    "graph = pydot.graph_from_dot_data(dot_data.getvalue())\n",
    "graph[0].write_png(\"iris.png\")"
   ]
  },
  {
   "cell_type": "code",
   "execution_count": 15,
   "metadata": {},
   "outputs": [
    {
     "data": {
      "text/plain": [
       "<matplotlib.image.AxesImage at 0x222b07e2a90>"
      ]
     },
     "execution_count": 15,
     "metadata": {},
     "output_type": "execute_result"
    }
   ],
   "source": [
    "import matplotlib.pyplot as plt\n",
    "schema_im = plt.imread('iris.png')\n",
    "plt.figure(figsize=(18,8))\n",
    "plt.imshow(schema_im)"
   ]
  },
  {
   "cell_type": "code",
   "execution_count": 16,
   "metadata": {},
   "outputs": [
    {
     "data": {
      "text/plain": [
       "{'__header__': b'MATLAB 5.0 MAT-file, Platform: GLNXA64, Created on: Sun Oct 16 13:09:09 2011',\n",
       " '__version__': '1.0',\n",
       " '__globals__': [],\n",
       " 'X': array([[0., 0., 0., ..., 0., 0., 0.],\n",
       "        [0., 0., 0., ..., 0., 0., 0.],\n",
       "        [0., 0., 0., ..., 0., 0., 0.],\n",
       "        ...,\n",
       "        [0., 0., 0., ..., 0., 0., 0.],\n",
       "        [0., 0., 0., ..., 0., 0., 0.],\n",
       "        [0., 0., 0., ..., 0., 0., 0.]]),\n",
       " 'y': array([[10],\n",
       "        [10],\n",
       "        [10],\n",
       "        ...,\n",
       "        [ 9],\n",
       "        [ 9],\n",
       "        [ 9]], dtype=uint8)}"
      ]
     },
     "execution_count": 16,
     "metadata": {},
     "output_type": "execute_result"
    }
   ],
   "source": [
    "import matplotlib.pyplot as plt\n",
    "import numpy as np\n",
    "from sklearn.metrics import classification_report, confusion_matrix, f1_score\n",
    "from sklearn import tree\n",
    "from sklearn.model_selection import train_test_split\n",
    "from scipy.io import loadmat\n",
    "\n",
    "# wczytywanie danych\n",
    "dane = loadmat('mnist.mat')\n",
    "dane"
   ]
  },
  {
   "cell_type": "code",
   "execution_count": 17,
   "metadata": {},
   "outputs": [],
   "source": [
    "#Zad 1. Podziel dane na parametry X oraz odpowiedź y:\n",
    "X = dane['X']\n",
    "y = dane['y']\n",
    "# Standaryzacja\n",
    "for i in range(X.shape[0]):\n",
    "    X[i,:] = X[i,:]/np.std(X[i,:])\n",
    "# Zamiana cyfry 10 -> 0 (błąd w zbiorze danych)\n",
    "y[np.where(y==10)]=0\n",
    "# wysokość i szerokość obrazka z cyfrą\n",
    "h = 20\n",
    "w = 20"
   ]
  },
  {
   "cell_type": "code",
   "execution_count": 18,
   "metadata": {},
   "outputs": [
    {
     "name": "stdout",
     "output_type": "stream",
     "text": [
      "Amount of numbers: 5000\n",
      "Amount of pixels for one image: 400\n"
     ]
    }
   ],
   "source": [
    "# Zad 2. Proszę wyświetlić liczbę cyfr oraz liczbę pikseli przypadającą na jeden obraz\n",
    "print(f'Amount of numbers: {y.size}')\n",
    "print(f'Amount of pixels for one image: {X[0,:].size}')"
   ]
  },
  {
   "cell_type": "code",
   "execution_count": 19,
   "metadata": {},
   "outputs": [],
   "source": [
    "def plot_mnist(images, titles, h, w, n_row=3, n_col=4):\n",
    "    plt.figure(figsize=(1.8 * n_col, 2.4 * n_row))\n",
    "    plt.subplots_adjust(bottom=0, left=.01, right=.99, top=.90, hspace=.05)\n",
    "    for i in range(n_row * n_col):\n",
    "        plt.subplot(n_row, n_col, i + 1)\n",
    "        plt.imshow(images[i].reshape((h, w)).T, cmap=plt.cm.gray)\n",
    "        plt.title(titles[i], size=12)\n",
    "        plt.xticks(())\n",
    "        plt.yticks(())"
   ]
  },
  {
   "cell_type": "code",
   "execution_count": 20,
   "metadata": {},
   "outputs": [
    {
     "name": "stderr",
     "output_type": "stream",
     "text": [
      "C:\\Users\\milan\\.conda\\envs\\ML_lab\\lib\\site-packages\\matplotlib\\text.py:1163: FutureWarning: elementwise comparison failed; returning scalar instead, but in the future will perform elementwise comparison\n",
      "  if s != self._text:\n"
     ]
    },
    {
     "data": {
      "image/png": "[encoded data removed]",
      "text/plain": [
       "<Figure size 518.4x518.4 with 12 Axes>"
      ]
     },
     "metadata": {},
     "output_type": "display_data"
    }
   ],
   "source": [
    "# Zad 3. Proszę wyświetlić przykładowe cyfry ze zbioru danych (funkcja plot_mnist).\n",
    "plot_mnist(X, y, h, w)"
   ]
  },
  {
   "cell_type": "code",
   "execution_count": 21,
   "metadata": {},
   "outputs": [
    {
     "name": "stderr",
     "output_type": "stream",
     "text": [
      "C:\\Users\\milan\\.conda\\envs\\ML_lab\\lib\\site-packages\\matplotlib\\text.py:1163: FutureWarning: elementwise comparison failed; returning scalar instead, but in the future will perform elementwise comparison\n",
      "  if s != self._text:\n"
     ]
    },
    {
     "data": {
      "image/png": "[encoded data removed]",
      "text/plain": [
       "<Figure size 518.4x518.4 with 12 Axes>"
      ]
     },
     "metadata": {},
     "output_type": "display_data"
    }
   ],
   "source": [
    "n_col = 4\n",
    "n_row = 3\n",
    "\n",
    "import random\n",
    "Rands = random.sample(range(1, y.size), n_col*n_row)\n",
    "\n",
    "i=0\n",
    "plt.figure(figsize=(1.8 * n_col, 2.4 * n_row))\n",
    "plt.subplots_adjust(bottom=0, left=.01, right=.99, top=.90, hspace=.05)\n",
    "for R in Rands:\n",
    "    plt.subplot(n_row, n_col, i + 1)\n",
    "    plt.imshow(X[R,:].reshape((h, w)).T, cmap=plt.cm.gray)\n",
    "    plt.title(y[R], size=12)\n",
    "    plt.xticks(())\n",
    "    plt.yticks(())\n",
    "    i += 1"
   ]
  },
  {
   "cell_type": "code",
   "execution_count": 22,
   "metadata": {},
   "outputs": [],
   "source": [
    "# Zad 4. Proszę podzielić zbiór danych na uczący (70 %) i treningowy.\n",
    "features_train, features_test, labels_train, labels_test = train_test_split(X, y, test_size=0.3)"
   ]
  },
  {
   "cell_type": "code",
   "execution_count": 23,
   "metadata": {},
   "outputs": [
    {
     "data": {
      "text/plain": [
       "0.8086666666666666"
      ]
     },
     "execution_count": 23,
     "metadata": {},
     "output_type": "execute_result"
    }
   ],
   "source": [
    "# Zad 5. Proszę stworzyć instancję klasyfikatora, następnie uczenie oraz predykcja dla danych testowych.\n",
    "DEPTH = 10\n",
    "\n",
    "clf = tree.DecisionTreeClassifier(max_depth=DEPTH)\n",
    "clf.fit(features_train, labels_train)\n",
    "\n",
    "predictions = clf.predict(features_test)\n",
    "accuracy_score(labels_test, predictions)"
   ]
  },
  {
   "cell_type": "code",
   "execution_count": 24,
   "metadata": {},
   "outputs": [
    {
     "name": "stdout",
     "output_type": "stream",
     "text": [
      "              precision    recall  f1-score   support\n",
      "\n",
      "           0       0.90      0.94      0.92       166\n",
      "           1       0.86      0.92      0.89       153\n",
      "           2       0.73      0.72      0.72       132\n",
      "           3       0.74      0.76      0.75       144\n",
      "           4       0.86      0.84      0.85       158\n",
      "           5       0.70      0.74      0.72       133\n",
      "           6       0.90      0.84      0.87       158\n",
      "           7       0.83      0.80      0.82       138\n",
      "           8       0.74      0.74      0.74       154\n",
      "           9       0.80      0.75      0.78       164\n",
      "\n",
      "    accuracy                           0.81      1500\n",
      "   macro avg       0.81      0.81      0.80      1500\n",
      "weighted avg       0.81      0.81      0.81      1500\n",
      "\n"
     ]
    }
   ],
   "source": [
    "# Zad 6. Proszę przedstawić wynik F1, macierz błędów (confusion matrix) oraz raport klasyfikacji.\n",
    "print(classification_report(labels_test, predictions))"
   ]
  },
  {
   "cell_type": "code",
   "execution_count": 25,
   "metadata": {},
   "outputs": [
    {
     "data": {
      "text/plain": [
       "array([[156,   0,   2,   2,   0,   1,   0,   1,   3,   1],\n",
       "       [  0, 141,   2,   5,   1,   1,   0,   1,   2,   0],\n",
       "       [  1,   2,  95,   5,   7,   5,   4,   3,   7,   3],\n",
       "       [  1,   6,   7, 109,   0,   7,   0,   4,   6,   4],\n",
       "       [  0,   1,   2,   2, 133,   7,   0,   2,   3,   8],\n",
       "       [  3,   1,   4,   8,   2,  99,   6,   2,   5,   3],\n",
       "       [  5,   3,   6,   2,   1,   5, 132,   0,   3,   1],\n",
       "       [  3,   3,   4,   6,   2,   2,   2, 111,   2,   3],\n",
       "       [  2,   3,   7,   5,   4,   9,   2,   1, 114,   7],\n",
       "       [  2,   4,   2,   4,   5,   6,   0,   9,   9, 123]], dtype=int64)"
      ]
     },
     "execution_count": 25,
     "metadata": {},
     "output_type": "execute_result"
    }
   ],
   "source": [
    "confusion_matrix(labels_test, predictions)"
   ]
  },
  {
   "cell_type": "code",
   "execution_count": 26,
   "metadata": {},
   "outputs": [
    {
     "data": {
      "text/plain": [
       "array([0.92035398, 0.88958991, 0.72243346, 0.74657534, 0.84984026,\n",
       "       0.72      , 0.86842105, 0.81617647, 0.74025974, 0.77602524])"
      ]
     },
     "execution_count": 26,
     "metadata": {},
     "output_type": "execute_result"
    }
   ],
   "source": [
    "f1_score(labels_test, predictions, average=None)"
   ]
  },
  {
   "cell_type": "code",
   "execution_count": null,
   "metadata": {},
   "outputs": [],
   "source": []
  }
 ],
 "metadata": {
  "kernelspec": {
   "display_name": "Python 3",
   "language": "python",
   "name": "python3"
  },
  "language_info": {
   "codemirror_mode": {
    "name": "ipython",
    "version": 3
   },
   "file_extension": ".py",
   "mimetype": "text/x-python",
   "name": "python",
   "nbconvert_exporter": "python",
   "pygments_lexer": "ipython3",
   "version": "3.6.12"
  }
 },
 "nbformat": 4,
 "nbformat_minor": 4
}
