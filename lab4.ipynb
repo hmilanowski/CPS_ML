{
 "cells": [
  {
   "cell_type": "markdown",
   "metadata": {},
   "source": [
    "Ex 1. Fit the sigmoid curve and calculate decision boundary using given dataset"
   ]
  },
  {
   "cell_type": "code",
   "execution_count": 4,
   "metadata": {},
   "outputs": [
    {
     "name": "stdout",
     "output_type": "stream",
     "text": [
      "[-9.830578   1.5369736]\n"
     ]
    },
    {
     "data": {
      "image/png": "[encoded data removed]",
      "text/plain": [
       "<Figure size 432x288 with 1 Axes>"
      ]
     },
     "metadata": {
      "needs_background": "light"
     },
     "output_type": "display_data"
    }
   ],
   "source": [
    "# a cheat sheet:\n",
    "# in an optimization loop\n",
    "# first calculate hypothesis for each datapoint x in X: h = 1 / (1 + exp(-theta0-theta1*x))\n",
    "# then calculate crossentropy: -y*log(h) - (1-y)*log(1-h)\n",
    "# and cost: sum(crossentropy) / len(x)\n",
    "# next calculate derivatives for theta 0 and theta1 (similar to those in linear regression)\n",
    "# theta0_deriv = sum(h - y) / len(y), theta1_deriv = sum((h-y)*X)\n",
    "# and then update theta weights\n",
    "# theta = theta - lr*theta_deriv\n",
    "\n",
    "# check if cost is getting lower through iterations\n",
    "# if not, try to modify the learning rate\n",
    "\n",
    "# calculating decision boundary might look like this:\n",
    "# theta[0] + theta[1]*x = 0\n",
    "# theta[1]*x = -theta[0]\n",
    "# x = -theta[0]/theta[1]\n",
    "\n",
    "from matplotlib import pyplot as plt\n",
    "import numpy as np\n",
    "\n",
    "X = np.array([1, 2, 3, 4, 5, 6, 7, 8, 9, 15, 25], dtype=np.float32)\n",
    "y = np.array([0, 0, 0, 0, 0, 0, 1, 1, 1,  1,  1], dtype=np.float32)\n",
    "\n",
    "theta = np.array([0, 0], dtype=np.float32)\n",
    "\n",
    "# optimization loop\n",
    "\n",
    "max_iter = 10000\n",
    "eps = 0.00001\n",
    "prev_cost = 99\n",
    "for i in range(max_iter):\n",
    "    h_x = 1 / (1 + np.exp(-theta[0] - theta[1]*X))\n",
    "\n",
    "    crossentropy = -y*np.log(h_x + 0.00001) - (1-y)*np.log(1-h_x + 0.00001)\n",
    "    cost = sum(crossentropy) / len(y)\n",
    "\n",
    "    theta0_deriv = sum(h_x-y)/len(y)\n",
    "    theta1_deriv = sum((h_x-y) * X) / len(y)\n",
    "\n",
    "    alpha = 0.1\n",
    "\n",
    "    theta[0] = theta[0] - alpha*theta0_deriv\n",
    "    theta[1] = theta[1] - alpha*theta1_deriv\n",
    "\n",
    "    if np.abs(prev_cost - cost) < eps:\n",
    "        break\n",
    "\n",
    "    prev_cost = cost\n",
    "\n",
    "print(theta)\n",
    "\n",
    "x_samples = np.linspace(min(X), max(X), 100)\n",
    "y_samples = 1 / (1 + np.exp(-theta[0] - theta[1]*x_samples))\n",
    "\n",
    "plt.plot(X, y, 'o')\n",
    "plt.plot(x_samples, y_samples, '-')\n",
    "plt.show()"
   ]
  },
  {
   "cell_type": "markdown",
   "metadata": {},
   "source": [
    "Ex 2."
   ]
  },
  {
   "cell_type": "code",
   "execution_count": 5,
   "metadata": {},
   "outputs": [
    {
     "name": "stdout",
     "output_type": "stream",
     "text": [
      "[[-2.37272547]\n",
      " [ 1.17270134]\n",
      " [-2.41199288]]\n"
     ]
    },
    {
     "data": {
      "image/png": "[encoded data removed]",
      "text/plain": [
       "<Figure size 432x288 with 1 Axes>"
      ]
     },
     "metadata": {
      "needs_background": "light"
     },
     "output_type": "display_data"
    }
   ],
   "source": [
    "# generalize optimization code for X being a matrix, where its rows are features and columns are examples\n",
    "# code should work independently from number of features and number of examples\n",
    "# use matrix multiplication (np.matmul or @)\n",
    "# plot decision boundary on a plot x2(x1)\n",
    "# calculating decision boundary might look like this:\n",
    "# theta0 + theta1*x1 + theta2*x2 = 0\n",
    "# theta2*x2 = -theta0 - theta1*x1\n",
    "# x2 = -theta0/theta2 - theta1/theta2 * x1\n",
    "\n",
    "from matplotlib import pyplot as plt\n",
    "import numpy as np\n",
    "\n",
    "X = np.array([[ 1, 1, 1, 1, 1, 1, 1, 1, 1,  1,  1], # bias' 'variables' already appended to X\n",
    "              [ 1, 2, 3, 4, 5, 6, 7, 8, 9, 15, 25],\n",
    "              [13, 9, 8, 6, 4, 2, 1, 0, 3,  4,  2]], dtype=np.float32)\n",
    "y = np.array([0, 0, 0, 0, 0, 0, 1, 1, 1,  1,  1], dtype=np.float32)\n",
    "\n",
    "y.shape = [1, len(y)]\n",
    "\n",
    "theta = np.zeros((X.shape[0], 1))\n",
    "\n",
    "max_iter = 10000\n",
    "eps = 0.00001\n",
    "alpha = 0.05\n",
    "prev_cost = 99\n",
    "\n",
    "for i in range(max_iter):\n",
    "    h_x = 1 / (1 + np.exp(-theta.T@X))\n",
    "\n",
    "    crossentropy = -y*np.log(h_x+0.00001) - (1-y)*np.log(1-h_x+0.00001)\n",
    "    [cost] = np.sum(crossentropy, axis=1) / X.shape[1]\n",
    "\n",
    "    theta_derivs = sum((h_x-y) @ X.T) / X.shape[1]\n",
    "    theta_derivs.shape = [len(theta_derivs), 1]\n",
    "\n",
    "    theta = theta - alpha*theta_derivs\n",
    "\n",
    "    if np.abs(prev_cost - cost) < eps:\n",
    "        break\n",
    "\n",
    "    prev_cost = cost\n",
    "\n",
    "print(theta)\n",
    "\n",
    "x1 = np.linspace(np.min(X[1, :]), np.max(X[1, :]), 100)\n",
    "x2 = -theta[0, 0]/theta[2, 0] - theta[1, 0]/theta[2, 0] * x1\n",
    "\n",
    "X_positive = X[:, y[0, :] == 1]\n",
    "X_negative = X[:, y[0, :] == 0]\n",
    "\n",
    "plt.plot(X_positive[2, :], X_positive[1, :], '+')\n",
    "plt.plot(X_negative[2, :], X_negative[1, :], 'o')\n",
    "plt.plot(x2, x1, '-')\n",
    "plt.show()"
   ]
  },
  {
   "cell_type": "markdown",
   "metadata": {},
   "source": [
    "Ex 3. Using real data, optimize classifier to predict given values"
   ]
  },
  {
   "cell_type": "code",
   "execution_count": 6,
   "metadata": {},
   "outputs": [
    {
     "name": "stdout",
     "output_type": "stream",
     "text": [
      "[[-6.62800034]\n",
      " [ 5.366854  ]\n",
      " [ 5.09441908]]\n"
     ]
    },
    {
     "data": {
      "image/png": "[encoded data removed]",
      "text/plain": [
       "<Figure size 432x288 with 1 Axes>"
      ]
     },
     "metadata": {
      "needs_background": "light"
     },
     "output_type": "display_data"
    }
   ],
   "source": [
    "# split dataset into a training set and a test set\n",
    "# train model on the training set\n",
    "# calculate TP, FP, TN, FN on test set\n",
    "# calculate sensitivity, specificity, positive predictivity and negative predictivity\n",
    "\n",
    "from matplotlib import pyplot as plt\n",
    "import numpy as np\n",
    "import pandas as pd\n",
    "\n",
    "data = pd.read_csv('./data.txt')\n",
    "data = data.values\n",
    "\n",
    "# lets try to put data into X and y.\n",
    "# we want X to be n+1 by m (n - number of features, m - number of examples)\n",
    "# and y to be 1 by m\n",
    "\n",
    "# data is 99x3, 99 - examples, first two columns - features, last column - labels\n",
    "\n",
    "X = np.ones((data.shape[1], data.shape[0]))  # create X of size 3x99\n",
    "X[1:3, :] = data[:, 0:2].T  # fill X's second and third row with features, leave first row with ones\n",
    "\n",
    "y = data[:, 2:3].T  # copy third column to y as row\n",
    "\n",
    "# we may want to normalize the dataset in order to converge faster\n",
    "X[1, :] = (X[1, :] - np.std(X[1, :])) / np.mean(X[1, :])\n",
    "X[2, :] = (X[2, :] - np.std(X[2, :])) / np.mean(X[2, :])\n",
    "\n",
    "# rest is the same as in 2.\n",
    "theta = np.zeros((X.shape[0], 1))\n",
    "\n",
    "max_iter = 10000\n",
    "eps = 0.00001\n",
    "alpha = 0.05\n",
    "prev_cost = 99\n",
    "\n",
    "for i in range(max_iter):\n",
    "    h_x = 1 / (1 + np.exp(-theta.T@X))\n",
    "\n",
    "    crossentropy = -y*np.log(h_x+0.00001) - (1-y)*np.log(1-h_x+0.00001)\n",
    "    [cost] = np.sum(crossentropy, axis=1) / X.shape[1]\n",
    "\n",
    "    theta_derivs = sum((h_x-y) @ X.T) / X.shape[1]\n",
    "    theta_derivs.shape = [len(theta_derivs), 1]\n",
    "\n",
    "    theta = theta - alpha*theta_derivs\n",
    "\n",
    "#     print(\"epoch \", str(i+1), \", cost \", cost)\n",
    "\n",
    "    if np.abs(prev_cost - cost) < eps:\n",
    "        break\n",
    "\n",
    "    prev_cost = cost\n",
    "\n",
    "print(theta)\n",
    "\n",
    "x1 = np.linspace(np.min(X[1, :]), np.max(X[1, :]), 100)\n",
    "x2 = -theta[0, 0]/theta[2, 0] - theta[1, 0]/theta[2, 0] * x1\n",
    "\n",
    "X_positive = X[:, y[0, :] == 1]\n",
    "X_negative = X[:, y[0, :] == 0]\n",
    "\n",
    "plt.plot(X_positive[2, :], X_positive[1, :], '+')\n",
    "plt.plot(X_negative[2, :], X_negative[1, :], 'o')\n",
    "plt.plot(x2, x1, '-')\n",
    "plt.show()\n"
   ]
  },
  {
   "cell_type": "code",
   "execution_count": null,
   "metadata": {},
   "outputs": [],
   "source": []
  }
 ],
 "metadata": {
  "kernelspec": {
   "display_name": "Python 3",
   "language": "python",
   "name": "python3"
  },
  "language_info": {
   "codemirror_mode": {
    "name": "ipython",
    "version": 3
   },
   "file_extension": ".py",
   "mimetype": "text/x-python",
   "name": "python",
   "nbconvert_exporter": "python",
   "pygments_lexer": "ipython3",
   "version": "3.6.12"
  }
 },
 "nbformat": 4,
 "nbformat_minor": 4
}
